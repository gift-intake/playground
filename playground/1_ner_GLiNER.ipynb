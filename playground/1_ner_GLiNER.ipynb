{
 "cells": [
  {
   "cell_type": "markdown",
   "metadata": {},
   "source": [
    "This example uses the default GLiNER model to perform named entity recognition.\n",
    "\n"
   ]
  },
  {
   "cell_type": "code",
   "execution_count": 2,
   "metadata": {},
   "outputs": [
    {
     "name": "stderr",
     "output_type": "stream",
     "text": [
      "c:\\Users\\vonbr\\Documents\\playground\\.venv\\Lib\\site-packages\\tqdm\\auto.py:21: TqdmWarning: IProgress not found. Please update jupyter and ipywidgets. See https://ipywidgets.readthedocs.io/en/stable/user_install.html\n",
      "  from .autonotebook import tqdm as notebook_tqdm\n"
     ]
    }
   ],
   "source": [
    "import json\n",
    "import numpy as np\n",
    "from pathlib import Path\n",
    "from pydantic import BaseModel, field_validator\n",
    "from typing import List\n",
    "from sklearn.metrics import (\n",
    "    jaccard_score,\n",
    "    hamming_loss,\n",
    "    f1_score,\n",
    "    precision_score,\n",
    "    recall_score,\n",
    "    accuracy_score,\n",
    ")\n",
    "from gliner import GLiNER"
   ]
  },
  {
   "cell_type": "code",
   "execution_count": 3,
   "metadata": {},
   "outputs": [],
   "source": [
    "class Entity(BaseModel):\n",
    "    entity: str\n",
    "    types: str\n",
    "    \n",
    "    @field_validator('entity')\n",
    "    @classmethod\n",
    "    def clean_entity(cls, v):\n",
    "        # Take only the text before the comma if there is one\n",
    "        if isinstance(v, str) and \",\" in v:\n",
    "            return v.split(\",\")[0].strip()\n",
    "        return v\n",
    "\n",
    "class Result(BaseModel):\n",
    "    text: str\n",
    "    entities: List[Entity]\n",
    "\n",
    "labels = [\"Interval\", \"Organization\", \"Money\", \"Date\", \"Phone\", \"Address\", \"Person\", \"Faculty\", \"PaymentMethod\", \"Email\", \"Gift Type\", \"Frequency\", \"Distribution\"]"
   ]
  },
  {
   "cell_type": "code",
   "execution_count": 4,
   "metadata": {},
   "outputs": [],
   "source": [
    "test_set_path = Path(\"results.jsonl\")\n",
    "\n",
    "results = []\n",
    "\n",
    "with open(test_set_path, \"r\") as f:\n",
    "    for line in f:\n",
    "        raw_data = json.loads(line)\n",
    "        try:\n",
    "            result = Result(**raw_data)\n",
    "            results.append(result)\n",
    "\n",
    "            filtered_entities = [entity for entity in result.entities if entity.types in labels]\n",
    "            \n",
    "            result.entities = filtered_entities\n",
    "            results.append(result)\n",
    "        except Exception as e:\n",
    "            print(f\"Error parsing line: {e}\")\n",
    "            print(f\"Problematic data: {raw_data}\")"
   ]
  },
  {
   "cell_type": "code",
   "execution_count": 5,
   "metadata": {},
   "outputs": [
    {
     "name": "stderr",
     "output_type": "stream",
     "text": [
      "Fetching 5 files: 100%|██████████| 5/5 [00:00<?, ?it/s]\n",
      "c:\\Users\\vonbr\\Documents\\playground\\.venv\\Lib\\site-packages\\transformers\\convert_slow_tokenizer.py:561: UserWarning: The sentencepiece tokenizer that you are converting to a fast tokenizer uses the byte fallback option which is not implemented in the fast tokenizers. In practice this means that the fast version of the tokenizer can produce unknown tokens whereas the sentencepiece version would have converted these unknown tokens into a sequence of byte tokens matching the original piece of text.\n",
      "  warnings.warn(\n",
      "Asking to truncate to max_length but no maximum length is provided and the model has no predefined maximum length. Default to no truncation.\n"
     ]
    }
   ],
   "source": [
    "model = GLiNER.from_pretrained(\"urchade/gliner_medium-v2.1\")\n",
    "\n",
    "ner_results = []\n",
    "for result in results:\n",
    "    text = result.text\n",
    "    entities = model.predict_entities(text, labels)\n",
    "    classified = [Entity(entity=entity[\"text\"], types=entity[\"label\"]) for entity in entities]\n",
    "    ner_results.append(Result(text=text, entities=classified))"
   ]
  },
  {
   "cell_type": "code",
   "execution_count": 9,
   "metadata": {},
   "outputs": [
    {
     "name": "stdout",
     "output_type": "stream",
     "text": [
      "Jaccard Score (Macro): 0.5689\n",
      "Jaccard Score (Micro): 0.6064\n",
      "Jaccard Score (Samples): 0.6275\n",
      "Hamming Score (Macro): 0.8192\n",
      "F1 Score (Macro): 0.6418\n",
      "F1 Score (Micro): 0.7550\n",
      "F1 Score (Samples): 0.7515\n",
      "Precision (Macro): 0.7953\n",
      "Precision (Micro): 0.7621\n",
      "Precision (Samples): 0.7846\n",
      "Recall (Macro): 0.6757\n",
      "Recall (Micro): 0.7479\n",
      "Recall (Samples): 0.7497\n",
      "Accuracy: 0.0800\n"
     ]
    }
   ],
   "source": [
    "labels = sorted(labels)\n",
    "\n",
    "def sort_entities_by_type(results):\n",
    "    for result in results:\n",
    "        result.entities.sort(key=lambda x: x.types)\n",
    "    return results\n",
    "\n",
    "def multi_hot_encode(entities, labels):\n",
    "    vector = np.zeros(len(labels), dtype=int)\n",
    "    for entity in entities:\n",
    "        if entity.types in labels:\n",
    "            vector[labels.index(entity.types)] = 1\n",
    "    return vector\n",
    "\n",
    "def hamming_score(y_true, y_pred):\n",
    "    return 1 - hamming_loss(y_true, y_pred)\n",
    "\n",
    "results = sort_entities_by_type(results)\n",
    "ner_results = sort_entities_by_type(ner_results)\n",
    "\n",
    "y_true = np.array([multi_hot_encode(gt.entities, labels) for gt in results])\n",
    "y_pred = np.array([multi_hot_encode(pred.entities, labels) for pred in ner_results])\n",
    "\n",
    "jaccard_macro = jaccard_score(y_true, y_pred, average='macro')\n",
    "jaccard_micro = jaccard_score(y_true, y_pred, average='micro')\n",
    "jaccard_samples = jaccard_score(y_true, y_pred, average='samples')\n",
    "hamming_macro = hamming_score(y_true, y_pred)\n",
    "\n",
    "f1_macro = f1_score(y_true, y_pred, average=\"macro\")\n",
    "f1_micro = f1_score(y_true, y_pred, average=\"micro\")\n",
    "f1_samples = f1_score(y_true, y_pred, average=\"samples\")\n",
    "\n",
    "precision_macro = precision_score(y_true, y_pred, average=\"macro\", zero_division=0)\n",
    "precision_micro = precision_score(y_true, y_pred, average=\"micro\", zero_division=0)\n",
    "precision_samples = precision_score(y_true, y_pred, average=\"samples\", zero_division=0)\n",
    "\n",
    "recall_macro = recall_score(y_true, y_pred, average=\"macro\", zero_division=0)\n",
    "recall_micro = recall_score(y_true, y_pred, average=\"micro\", zero_division=0)\n",
    "recall_samples = recall_score(y_true, y_pred, average=\"samples\", zero_division=0)\n",
    "\n",
    "accuracy = accuracy_score(y_true, y_pred)\n",
    "\n",
    "\n",
    "# Print results\n",
    "print(f\"Jaccard Score (Macro): {jaccard_macro:.4f}\")\n",
    "print(f\"Jaccard Score (Micro): {jaccard_micro:.4f}\")\n",
    "print(f\"Jaccard Score (Samples): {jaccard_samples:.4f}\")\n",
    "print(f\"Hamming Score (Macro): {hamming_macro:.4f}\")\n",
    "print(f\"F1 Score (Macro): {f1_macro:.4f}\")\n",
    "print(f\"F1 Score (Micro): {f1_micro:.4f}\")\n",
    "print(f\"F1 Score (Samples): {f1_samples:.4f}\")\n",
    "print(f\"Precision (Macro): {precision_macro:.4f}\")\n",
    "print(f\"Precision (Micro): {precision_micro:.4f}\")\n",
    "print(f\"Precision (Samples): {precision_samples:.4f}\")\n",
    "print(f\"Recall (Macro): {recall_macro:.4f}\")\n",
    "print(f\"Recall (Micro): {recall_micro:.4f}\")\n",
    "print(f\"Recall (Samples): {recall_samples:.4f}\")\n",
    "print(f\"Accuracy: {accuracy:.4f}\")"
   ]
  }
 ],
 "metadata": {
  "kernelspec": {
   "display_name": ".venv",
   "language": "python",
   "name": "python3"
  },
  "language_info": {
   "codemirror_mode": {
    "name": "ipython",
    "version": 3
   },
   "file_extension": ".py",
   "mimetype": "text/x-python",
   "name": "python",
   "nbconvert_exporter": "python",
   "pygments_lexer": "ipython3",
   "version": "3.12.5"
  }
 },
 "nbformat": 4,
 "nbformat_minor": 2
}
