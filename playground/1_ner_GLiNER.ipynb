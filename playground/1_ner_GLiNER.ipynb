{
 "cells": [
  {
   "cell_type": "markdown",
   "metadata": {},
   "source": [
    "This example uses the default GLiNER model to perform named entity recognition.\n",
    "\n"
   ]
  },
  {
   "cell_type": "code",
   "execution_count": null,
   "metadata": {},
   "outputs": [
    {
     "name": "stderr",
     "output_type": "stream",
     "text": [
      "Fetching 5 files: 100%|██████████| 5/5 [00:00<?, ?it/s]\n",
      "Asking to truncate to max_length but no maximum length is provided and the model has no predefined maximum length. Default to no truncation.\n"
     ]
    },
    {
     "name": "stdout",
     "output_type": "stream",
     "text": [
      "$40,000 => Money\n",
      "Price Faculty of Engineering => Department\n",
      "$10,000 => Money\n",
      "Computer Science => Department\n",
      "$100,000 => Money\n",
      "Bruce => Person\n"
     ]
    }
   ],
   "source": [
    "from gliner import GLiNER\n",
    "\n",
    "model = GLiNER.from_pretrained(\"urchade/gliner_medium-v2.1\")\n",
    "\n",
    "text = \"\"\"\n",
    "Hello,\n",
    "\n",
    "I want to make setup a yearly scholarship that provides a student with $40,000 if they are in Price Faculty of Engineering\n",
    "as well as a $10,000 scholarship if they are in Computer Science. I would like to know if this is possible.\n",
    "\n",
    "I would also like to assit with renovating the library. I would like to donate $100,000 to the library.\n",
    "\n",
    "Thanks,\n",
    "\n",
    "Bruce\n",
    "\"\"\"\n",
    "\n",
    "labels = [\"Person\", \"Money\", \"GiftType\", \"Interval\", \"Department\"]\n",
    "\n",
    "entities = model.predict_entities(text, labels, threshold=0.5)\n",
    "\n",
    "for entity in entities:\n",
    "    print(entity[\"text\"], \"=>\", entity[\"label\"])"
   ]
  },
  {
   "cell_type": "markdown",
   "metadata": {},
   "source": [
    "We see that this model does a good job at extracting monitary, department, gift type and persons but fails when extracting intervals."
   ]
  }
 ],
 "metadata": {
  "kernelspec": {
   "display_name": ".venv",
   "language": "python",
   "name": "python3"
  },
  "language_info": {
   "codemirror_mode": {
    "name": "ipython",
    "version": 3
   },
   "file_extension": ".py",
   "mimetype": "text/x-python",
   "name": "python",
   "nbconvert_exporter": "python",
   "pygments_lexer": "ipython3",
   "version": "3.12.5"
  }
 },
 "nbformat": 4,
 "nbformat_minor": 2
}
