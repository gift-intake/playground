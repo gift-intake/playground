{
 "cells": [
  {
   "cell_type": "markdown",
   "metadata": {},
   "source": [
    "This example uses the default GLiNER model to perform named entity recognition.\n",
    "\n"
   ]
  },
  {
   "cell_type": "code",
   "execution_count": 4,
   "metadata": {},
   "outputs": [
    {
     "name": "stderr",
     "output_type": "stream",
     "text": [
      "<>:6: SyntaxWarning: invalid escape sequence '\\p'\n",
      "<>:6: SyntaxWarning: invalid escape sequence '\\p'\n",
      "C:\\Users\\maish\\AppData\\Local\\Temp\\ipykernel_13612\\2806914677.py:6: SyntaxWarning: invalid escape sequence '\\p'\n",
      "  file_path = \"D:\\playground\\playground\\donor_emails_dataset.json\"\n",
      "Fetching 5 files: 100%|██████████| 5/5 [00:00<?, ?it/s]\n",
      "Asking to truncate to max_length but no maximum length is provided and the model has no predefined maximum length. Default to no truncation.\n"
     ]
    },
    {
     "name": "stdout",
     "output_type": "stream",
     "text": [
      "Total Entities: 1000, Correct: 294, Missed: 706, False Positives: 174\n",
      "Accuracy: 29.40%\n",
      "Precision: 62.82%\n",
      "Recall: 29.40%\n",
      "F1 Score: 40.05%\n",
      "Total Entities: 1000, Correct: 294, Missed: 706\n",
      "Accuracy: 29.40%\n"
     ]
    }
   ],
   "source": [
    "import json\n",
    "\n",
    "from gliner import GLiNER\n",
    "\n",
    "# Load the dataset\n",
    "file_path = \"D:\\playground\\playground\\donor_emails_dataset.json\"\n",
    "with open(file_path, \"r\") as f:\n",
    "    dataset = json.load(f)\n",
    "\n",
    "#load GLiNER model\n",
    "model = GLiNER.from_pretrained(\"urchade/gliner_medium-v2.1\")\n",
    "\n",
    "labels = [\"name\", \"faculty\",\"college\",\"program\",\"distribution\",\"payment method\",\"money\", \"currency\",\"email address\"]\n",
    "correct = 0\n",
    "total = 0\n",
    "missed = 0\n",
    "false_positives = 0\n",
    "for sample in dataset:\n",
    "    text = sample[\"text\"]\n",
    "    ground_truth_entities = {ent[\"entity\"]: ent[\"types\"][0] for ent in sample[\"entities\"]}\n",
    "    # Run entity extraction\n",
    "    extracted_entities = model.predict_entities(text, labels, threshold=0.5)\n",
    "    extracted_set = {ent[\"text\"]: ent[\"label\"] for ent in extracted_entities}\n",
    "    # Compare extracted entities with ground truth\n",
    "    for entity, label in ground_truth_entities.items():\n",
    "        total += 1\n",
    "        if entity in extracted_set and extracted_set[entity] == label:\n",
    "            correct += 1\n",
    "        else:\n",
    "            missed += 1\n",
    "    # Count false positives\n",
    "    for entity in extracted_set:\n",
    "        if entity not in ground_truth_entities:\n",
    "            false_positives += 1\n",
    "# Accuracy calculation\n",
    "accuracy = correct / total if total > 0 else 0\n",
    "precision = correct / (correct + false_positives) if (correct + false_positives) > 0 else 0\n",
    "recall = correct / total if total > 0 else 0\n",
    "f1_score = 2 * (precision * recall) / (precision + recall) if (precision + recall) > 0 else 0\n",
    "print(f\"Total Entities: {total}, Correct: {correct}, Missed: {missed}, False Positives: {false_positives}\")\n",
    "print(f\"Accuracy: {accuracy:.2%}\")\n",
    "print(f\"Precision: {precision:.2%}\")\n",
    "print(f\"Recall: {recall:.2%}\")\n",
    "print(f\"F1 Score: {f1_score:.2%}\")\n",
    "correct = 0\n",
    "total = 0\n",
    "missed = 0\n",
    "for sample in dataset:\n",
    "    text = sample[\"text\"]\n",
    "    ground_truth_entities = {ent[\"entity\"]: ent[\"types\"][0] for ent in sample[\"entities\"]}\n",
    "    # Run entity extraction\n",
    "    extracted_entities = model.predict_entities(text, labels, threshold=0.5)\n",
    "    extracted_set = {ent[\"text\"]: ent[\"label\"] for ent in extracted_entities}\n",
    "    # Compare extracted entities with ground truth\n",
    "    for entity, label in ground_truth_entities.items():\n",
    "        total += 1\n",
    "        if entity in extracted_set and extracted_set[entity] == label:\n",
    "            correct += 1\n",
    "        else:\n",
    "            missed += 1\n",
    "# Accuracy calculation\n",
    "accuracy = correct / total if total > 0 else 0\n",
    "print(f\"Total Entities: {total}, Correct: {correct}, Missed: {missed}\")\n",
    "print(f\"Accuracy: {accuracy:.2%}\")"
   ]
  },
  {
   "cell_type": "markdown",
   "metadata": {},
   "source": [
    "We see that this model does a good job at extracting monitary, department, gift type and persons but fails when extracting intervals."
   ]
  }
 ],
 "metadata": {
  "kernelspec": {
   "display_name": "Python 3",
   "language": "python",
   "name": "python3"
  },
  "language_info": {
   "codemirror_mode": {
    "name": "ipython",
    "version": 3
   },
   "file_extension": ".py",
   "mimetype": "text/x-python",
   "name": "python",
   "nbconvert_exporter": "python",
   "pygments_lexer": "ipython3",
   "version": "3.12.6"
  }
 },
 "nbformat": 4,
 "nbformat_minor": 2
}
