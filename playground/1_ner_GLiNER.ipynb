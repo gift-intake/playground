{
 "cells": [
  {
   "cell_type": "markdown",
   "metadata": {},
   "source": [
    "This example uses the default GLiNER model to perform named entity recognition.\n",
    "\n"
   ]
  },
  {
   "cell_type": "code",
   "execution_count": 15,
   "metadata": {},
   "outputs": [],
   "source": [
    "from pydantic import BaseModel, field_validator\n",
    "from typing import List\n",
    "\n",
    "class Entity(BaseModel):\n",
    "    entity: str\n",
    "    types: str\n",
    "    \n",
    "    @field_validator('entity')\n",
    "    @classmethod\n",
    "    def clean_entity(cls, v):\n",
    "        # Take only the text before the comma if there is one\n",
    "        if isinstance(v, str) and \",\" in v:\n",
    "            return v.split(\",\")[0].strip()\n",
    "        return v\n",
    "\n",
    "class Result(BaseModel):\n",
    "    text: str\n",
    "    entities: List[Entity]"
   ]
  },
  {
   "cell_type": "code",
   "execution_count": null,
   "metadata": {},
   "outputs": [],
   "source": [
    "import json\n",
    "from pathlib import Path\n",
    "\n",
    "test_set_path = Path(\"results.jsonl\")\n",
    "\n",
    "results = []\n",
    "\n",
    "with open(test_set_path, \"r\") as f:\n",
    "    for line in f:\n",
    "        raw_data = json.loads(line)\n",
    "        try:\n",
    "            result = Result(**raw_data)\n",
    "            results.append(result)\n",
    "        except Exception as e:\n",
    "            print(f\"Error parsing line: {e}\")\n",
    "            print(f\"Problematic data: {raw_data}\")"
   ]
  },
  {
   "cell_type": "code",
   "execution_count": 21,
   "metadata": {},
   "outputs": [
    {
     "name": "stderr",
     "output_type": "stream",
     "text": [
      "Fetching 4 files: 100%|██████████| 4/4 [00:00<?, ?it/s]\n"
     ]
    },
    {
     "name": "stdout",
     "output_type": "stream",
     "text": [
      "Dear University of Manitoba Development Office,\n",
      "I am delighted to be supporting your cause through a one-time gift of $20,000.\n",
      "I would like this donation to go towards the Computer Science Department's Fellowship Program. Please let me know if this is feasible and how we can make it happen. \n",
      "Thank you for your time and consideration.\n",
      "Sincerely,\n",
      "Michael Roberts.\n"
     ]
    },
    {
     "ename": "AttributeError",
     "evalue": "'GLiNER' object has no attribute 'extract_entities'",
     "output_type": "error",
     "traceback": [
      "\u001b[1;31m---------------------------------------------------------------------------\u001b[0m",
      "\u001b[1;31mAttributeError\u001b[0m                            Traceback (most recent call last)",
      "Cell \u001b[1;32mIn[21], line 11\u001b[0m\n\u001b[0;32m      9\u001b[0m \u001b[38;5;28mprint\u001b[39m(text)\n\u001b[0;32m     10\u001b[0m \u001b[38;5;66;03m# Use the correct API for text input - GLiNER expects text directly\u001b[39;00m\n\u001b[1;32m---> 11\u001b[0m entities \u001b[38;5;241m=\u001b[39m \u001b[43mmodel\u001b[49m\u001b[38;5;241;43m.\u001b[39;49m\u001b[43mextract_entities\u001b[49m(text, labels, threshold\u001b[38;5;241m=\u001b[39m\u001b[38;5;241m0.8\u001b[39m)\n\u001b[0;32m     12\u001b[0m \u001b[38;5;28mprint\u001b[39m(entities)\n",
      "File \u001b[1;32mc:\\Users\\vonbr\\Documents\\playground\\.venv\\Lib\\site-packages\\torch\\nn\\modules\\module.py:1729\u001b[0m, in \u001b[0;36mModule.__getattr__\u001b[1;34m(self, name)\u001b[0m\n\u001b[0;32m   1727\u001b[0m     \u001b[38;5;28;01mif\u001b[39;00m name \u001b[38;5;129;01min\u001b[39;00m modules:\n\u001b[0;32m   1728\u001b[0m         \u001b[38;5;28;01mreturn\u001b[39;00m modules[name]\n\u001b[1;32m-> 1729\u001b[0m \u001b[38;5;28;01mraise\u001b[39;00m \u001b[38;5;167;01mAttributeError\u001b[39;00m(\u001b[38;5;124mf\u001b[39m\u001b[38;5;124m\"\u001b[39m\u001b[38;5;124m'\u001b[39m\u001b[38;5;132;01m{\u001b[39;00m\u001b[38;5;28mtype\u001b[39m(\u001b[38;5;28mself\u001b[39m)\u001b[38;5;241m.\u001b[39m\u001b[38;5;18m__name__\u001b[39m\u001b[38;5;132;01m}\u001b[39;00m\u001b[38;5;124m'\u001b[39m\u001b[38;5;124m object has no attribute \u001b[39m\u001b[38;5;124m'\u001b[39m\u001b[38;5;132;01m{\u001b[39;00mname\u001b[38;5;132;01m}\u001b[39;00m\u001b[38;5;124m'\u001b[39m\u001b[38;5;124m\"\u001b[39m)\n",
      "\u001b[1;31mAttributeError\u001b[0m: 'GLiNER' object has no attribute 'extract_entities'"
     ]
    }
   ],
   "source": [
    "from gliner import GLiNER\n",
    "\n",
    "model = GLiNER.from_pretrained(\"urchade/gliner_large-v2.1\")\n",
    "\n",
    "labels = [\"Interval\", \"Money\", \"Start Date\", \"Phone\", \"Address\", \"Person\", \"Faculty\"]\n",
    "\n",
    "for result in results:\n",
    "    text = result.text\n",
    "    print(text)\n",
    "    # Use the correct API for text input - GLiNER expects text directly\n",
    "    entities = model.extract_entities(text, labels, threshold=0.8)\n",
    "    print(entities)\n"
   ]
  }
 ],
 "metadata": {
  "kernelspec": {
   "display_name": ".venv",
   "language": "python",
   "name": "python3"
  },
  "language_info": {
   "codemirror_mode": {
    "name": "ipython",
    "version": 3
   },
   "file_extension": ".py",
   "mimetype": "text/x-python",
   "name": "python",
   "nbconvert_exporter": "python",
   "pygments_lexer": "ipython3",
   "version": "3.12.5"
  }
 },
 "nbformat": 4,
 "nbformat_minor": 2
}
