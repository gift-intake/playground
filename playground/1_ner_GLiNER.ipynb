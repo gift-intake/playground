{
 "cells": [
  {
   "cell_type": "markdown",
   "metadata": {},
   "source": [
    "This example uses the default GLiNER model to perform named entity recognition.\n",
    "\n"
   ]
  },
  {
   "cell_type": "code",
   "execution_count": 85,
   "metadata": {},
   "outputs": [],
   "source": [
    "import json\n",
    "import numpy as np\n",
    "from pathlib import Path\n",
    "from pydantic import BaseModel, field_validator\n",
    "from typing import List\n",
    "from sklearn.metrics import jaccard_score, hamming_loss\n",
    "from gliner import GLiNER"
   ]
  },
  {
   "cell_type": "code",
   "execution_count": 86,
   "metadata": {},
   "outputs": [],
   "source": [
    "class Entity(BaseModel):\n",
    "    entity: str\n",
    "    types: str\n",
    "    \n",
    "    @field_validator('entity')\n",
    "    @classmethod\n",
    "    def clean_entity(cls, v):\n",
    "        # Take only the text before the comma if there is one\n",
    "        if isinstance(v, str) and \",\" in v:\n",
    "            return v.split(\",\")[0].strip()\n",
    "        return v\n",
    "\n",
    "class Result(BaseModel):\n",
    "    text: str\n",
    "    entities: List[Entity]\n",
    "\n",
    "labels = [\"Interval\", \"Organization\", \"Money\", \"Date\", \"Phone\", \"Address\", \"Person\", \"Faculty\", \"PaymentMethod\", \"Email\", \"Gift Type\", \"Frequency\", \"Distribution\"]"
   ]
  },
  {
   "cell_type": "code",
   "execution_count": 87,
   "metadata": {},
   "outputs": [],
   "source": [
    "test_set_path = Path(\"results.jsonl\")\n",
    "\n",
    "results = []\n",
    "\n",
    "with open(test_set_path, \"r\") as f:\n",
    "    for line in f:\n",
    "        raw_data = json.loads(line)\n",
    "        try:\n",
    "            result = Result(**raw_data)\n",
    "            results.append(result)\n",
    "\n",
    "            filtered_entities = [entity for entity in result.entities if entity.types in labels]\n",
    "            \n",
    "            result.entities = filtered_entities\n",
    "            results.append(result)\n",
    "        except Exception as e:\n",
    "            print(f\"Error parsing line: {e}\")\n",
    "            print(f\"Problematic data: {raw_data}\")"
   ]
  },
  {
   "cell_type": "code",
   "execution_count": 88,
   "metadata": {},
   "outputs": [
    {
     "name": "stderr",
     "output_type": "stream",
     "text": [
      "Fetching 5 files: 100%|██████████| 5/5 [00:00<?, ?it/s]\n",
      "c:\\Users\\vonbr\\Documents\\playground\\.venv\\Lib\\site-packages\\transformers\\convert_slow_tokenizer.py:561: UserWarning: The sentencepiece tokenizer that you are converting to a fast tokenizer uses the byte fallback option which is not implemented in the fast tokenizers. In practice this means that the fast version of the tokenizer can produce unknown tokens whereas the sentencepiece version would have converted these unknown tokens into a sequence of byte tokens matching the original piece of text.\n",
      "  warnings.warn(\n",
      "Asking to truncate to max_length but no maximum length is provided and the model has no predefined maximum length. Default to no truncation.\n"
     ]
    }
   ],
   "source": [
    "model = GLiNER.from_pretrained(\"urchade/gliner_medium-v2.1\")\n",
    "\n",
    "ner_results = []\n",
    "for result in results:\n",
    "    text = result.text\n",
    "    entities = model.predict_entities(text, labels)\n",
    "    classified = [Entity(entity=entity[\"text\"], types=entity[\"label\"]) for entity in entities]\n",
    "    ner_results.append(Result(text=text, entities=classified))"
   ]
  },
  {
   "cell_type": "code",
   "execution_count": 89,
   "metadata": {},
   "outputs": [
    {
     "name": "stdout",
     "output_type": "stream",
     "text": [
      "Jaccard Score (Macro): 0.5689\n",
      "Jaccard Score (Micro): 0.6064\n",
      "Jaccard Score (Samples): 0.6275\n",
      "Hamming Score (Macro): 0.8192\n"
     ]
    }
   ],
   "source": [
    "labels = sorted(labels)\n",
    "\n",
    "def sort_entities_by_type(results):\n",
    "    for result in results:\n",
    "        result.entities.sort(key=lambda x: x.types)\n",
    "    return results\n",
    "\n",
    "def multi_hot_encode(entities, labels):\n",
    "    vector = np.zeros(len(labels), dtype=int)\n",
    "    for entity in entities:\n",
    "        if entity.types in labels:\n",
    "            vector[labels.index(entity.types)] = 1\n",
    "    return vector\n",
    "\n",
    "def hamming_score(y_true, y_pred):\n",
    "    return 1 - hamming_loss(y_true, y_pred)\n",
    "\n",
    "results = sort_entities_by_type(results)\n",
    "ner_results = sort_entities_by_type(ner_results)\n",
    "\n",
    "y_true = np.array([multi_hot_encode(gt.entities, labels) for gt in results])\n",
    "y_pred = np.array([multi_hot_encode(pred.entities, labels) for pred in ner_results])\n",
    "\n",
    "jaccard_macro = jaccard_score(y_true, y_pred, average='macro')\n",
    "jaccard_micro = jaccard_score(y_true, y_pred, average='micro')\n",
    "jaccard_samples = jaccard_score(y_true, y_pred, average='samples')\n",
    "hamming_macro = hamming_score(y_true, y_pred)\n",
    "\n",
    "# Print results\n",
    "print(f\"Jaccard Score (Macro): {jaccard_macro:.4f}\")\n",
    "print(f\"Jaccard Score (Micro): {jaccard_micro:.4f}\")\n",
    "print(f\"Jaccard Score (Samples): {jaccard_samples:.4f}\")\n",
    "print(f\"Hamming Score (Macro): {hamming_macro:.4f}\")"
   ]
  }
 ],
 "metadata": {
  "kernelspec": {
   "display_name": ".venv",
   "language": "python",
   "name": "python3"
  },
  "language_info": {
   "codemirror_mode": {
    "name": "ipython",
    "version": 3
   },
   "file_extension": ".py",
   "mimetype": "text/x-python",
   "name": "python",
   "nbconvert_exporter": "python",
   "pygments_lexer": "ipython3",
   "version": "3.12.5"
  }
 },
 "nbformat": 4,
 "nbformat_minor": 2
}
