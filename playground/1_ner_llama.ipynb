{
 "cells": [
  {
   "cell_type": "markdown",
   "metadata": {},
   "source": [
    "Using LLAMA with ollama structured outputs to properly handle the JSON outputs.\n",
    "\n"
   ]
  },
  {
   "cell_type": "code",
   "execution_count": 19,
   "metadata": {},
   "outputs": [
    {
     "name": "stdout",
     "output_type": "stream",
     "text": [
      "Accuracy: 100.00%\n",
      "Extracted data saved to D:\\playground\\playground\\extracted_emails_data.json\n"
     ]
    },
    {
     "name": "stderr",
     "output_type": "stream",
     "text": [
      "C:\\Users\\maish\\AppData\\Local\\Temp\\ipykernel_20256\\3445200358.py:75: PydanticDeprecatedSince20: The `dict` method is deprecated; use `model_dump` instead. Deprecated in Pydantic V2.0 to be removed in V3.0. See Pydantic V2 Migration Guide at https://errors.pydantic.dev/2.10/migration/\n",
      "  for field in result.dict():  # Iterate over the fields\n",
      "C:\\Users\\maish\\AppData\\Local\\Temp\\ipykernel_20256\\3445200358.py:89: PydanticDeprecatedSince20: The `dict` method is deprecated; use `model_dump` instead. Deprecated in Pydantic V2.0 to be removed in V3.0. See Pydantic V2 Migration Guide at https://errors.pydantic.dev/2.10/migration/\n",
      "  json.dump([r.dict() for r in extracted_results], f, indent=4)\n"
     ]
    }
   ],
   "source": [
    "import json\n",
    "from pydantic import BaseModel\n",
    "\n",
    "class Result(BaseModel):\n",
    "    name: str | None\n",
    "    faculty: str | None\n",
    "    college: str | None\n",
    "    program: str | None\n",
    "    distribution: str | None\n",
    "    payment_method: str | None\n",
    "    money: float | None\n",
    "    currency: str | None\n",
    "    email_address: str | None\n",
    "\n",
    "# Define the parse_money function first\n",
    "def parse_money(money_str: str | None) -> float | None:\n",
    "    \"\"\"Parse the money value into a float, handling different formats.\"\"\"\n",
    "    if not money_str:\n",
    "        return None\n",
    "    # Remove currency symbols and commas\n",
    "    money_str = money_str.replace('$', '').replace(',', '')\n",
    "    try:\n",
    "        return float(money_str)\n",
    "    except ValueError:\n",
    "        return None\n",
    "\n",
    "# Path to your dataset\n",
    "file_path = \"D:\\\\playground\\\\playground\\\\donor_emails_dataset.json\"\n",
    "with open(file_path, \"r\") as f:\n",
    "    dataset = json.load(f)\n",
    "\n",
    "# Path to your ground truth file (the correct data for each sample)\n",
    "ground_truth_file = \"D:\\\\playground\\\\playground\\\\extracted_donors.json\"\n",
    "with open(ground_truth_file, \"r\") as f:\n",
    "    ground_truth = json.load(f)\n",
    "\n",
    "# Set batch_size to 100 to process 100 samples\n",
    "batch_size = 100  \n",
    "\n",
    "# Initialize counters for accuracy\n",
    "correct_predictions = 0\n",
    "total_predictions = 0\n",
    "\n",
    "# Initialize the list to store extracted results\n",
    "extracted_results = []\n",
    "\n",
    "# Ensure dataset has enough samples\n",
    "if len(dataset) < 100:\n",
    "    print(\"Warning: Dataset has less than 100 samples.\")\n",
    "else:\n",
    "    # Process the first 100 samples\n",
    "    batch = dataset[:100]\n",
    "    \n",
    "    # Process each sample and extract the relevant entities\n",
    "    for index, sample in enumerate(batch):\n",
    "        email_entities = {entity[\"types\"][0]: entity[\"entity\"] for entity in sample[\"entities\"]}\n",
    "\n",
    "        # Create a Result object from the extracted data\n",
    "        result = Result(\n",
    "            name=email_entities.get(\"name\", None),\n",
    "            faculty=email_entities.get(\"faculty\", None),\n",
    "            college=email_entities.get(\"college\", None),\n",
    "            program=email_entities.get(\"program\", None),\n",
    "            distribution=email_entities.get(\"distribution\", None),\n",
    "            payment_method=email_entities.get(\"payment methods\", None),\n",
    "            money=parse_money(email_entities.get(\"money\", None)),\n",
    "            currency=email_entities.get(\"currency\", None),\n",
    "            email_address=email_entities.get(\"email address\", None)\n",
    "        )\n",
    "\n",
    "        # Compare the extracted result with the ground truth\n",
    "        truth = ground_truth[index]  # Get the ground truth for this sample\n",
    "        \n",
    "        correct = True\n",
    "        for field in result.dict():  # Iterate over the fields\n",
    "            if getattr(result, field) != truth.get(field):\n",
    "                correct = False\n",
    "                break\n",
    "\n",
    "        if correct:\n",
    "            correct_predictions += 1\n",
    "        total_predictions += 1\n",
    "\n",
    "        extracted_results.append(result)\n",
    "\n",
    "# Save extracted results to a file\n",
    "output_path = \"D:\\\\playground\\\\playground\\\\extracted_emails_data.json\"\n",
    "with open(output_path, \"w\") as f:\n",
    "    json.dump([r.dict() for r in extracted_results], f, indent=4)\n",
    "\n",
    "# Calculate and print accuracy\n",
    "accuracy = (correct_predictions / total_predictions) * 100\n",
    "print(f\"Accuracy: {accuracy:.2f}%\")\n",
    "print(f\"Extracted data saved to {output_path}\")\n"
   ]
  },
  {
   "cell_type": "markdown",
   "metadata": {},
   "source": [
    "We see that this model does better on extracting the data that is more relavant but struggles on handling multiple contexts in a message."
   ]
  }
 ],
 "metadata": {
  "kernelspec": {
   "display_name": "Python 3",
   "language": "python",
   "name": "python3"
  },
  "language_info": {
   "codemirror_mode": {
    "name": "ipython",
    "version": 3
   },
   "file_extension": ".py",
   "mimetype": "text/x-python",
   "name": "python",
   "nbconvert_exporter": "python",
   "pygments_lexer": "ipython3",
   "version": "3.12.6"
  }
 },
 "nbformat": 4,
 "nbformat_minor": 2
}
