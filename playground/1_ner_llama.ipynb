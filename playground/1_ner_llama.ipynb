{
 "cells": [
  {
   "cell_type": "markdown",
   "metadata": {},
   "source": [
    "Using LLAMA with ollama structured outputs to properly handle the JSON outputs.\n",
    "\n"
   ]
  },
  {
   "cell_type": "code",
   "execution_count": 2,
   "metadata": {},
   "outputs": [
    {
     "name": "stdout",
     "output_type": "stream",
     "text": [
      "name='Bruce' amount=40000 department='Price Faculty of Engineering' interval='yearly'\n"
     ]
    }
   ],
   "source": [
    "from ollama import chat\n",
    "from pydantic import BaseModel\n",
    "\n",
    "class Result(BaseModel):\n",
    "    name: str\n",
    "    amount: int\n",
    "    department: str\n",
    "    interval: str\n",
    "\n",
    "response = chat(\n",
    "    messages=[\n",
    "        {\n",
    "            'role': 'system',\n",
    "            'content':\n",
    "            \"\"\"\n",
    "            You are an AI-powered email parsing tool designed to extract donation-related information with high precision and consistency.\n",
    "\n",
    "            Extraction Guidelines:\n",
    "            - Currency Detection: Recognize amounts in multiple currencies (e.g., $, €, £, ¥)\n",
    "            - Name Recognition: Extract full names, first names\n",
    "            - Interval Parsing: Identify donation frequencies including variations like:\n",
    "            * \"monthly\" / \"month\" \n",
    "            * \"yearly\" / \"annual\" / \"per year\"\n",
    "            * \"one-time\" / \"single\" / \"once\"\n",
    "            - Department: Identify the department or faculty associated with the donation (e.g., \"Computer Science\", \"Price Faculty of Engineering\")\n",
    "\n",
    "            Parsing Considerations:\n",
    "            - Handle variations in amount formatting (e.g., \"$50\", \"50 USD\", \"50.00\")\n",
    "            - Extract information regardless of email section (subject, body, signature)\n",
    "            - Case-insensitive matching for keywords\n",
    "\n",
    "            Error Handling:\n",
    "            - If multiple conflicting extractions exist, prioritize:\n",
    "            1. Most recent mention\n",
    "            2. Most explicit statement\n",
    "            3. Full amount over partial amount\n",
    "            - Return null if no confident extraction is possible\n",
    "\n",
    "            Extraction Precision:\n",
    "            - Aim for 90%+ accuracy in extracting donation details\n",
    "            - Prioritize complete, unambiguous extractions\n",
    "            - When in doubt, return null rather than guessing\n",
    "\n",
    "            Output Format:\n",
    "            You must always return the extracted data in the following JSON format, and nothing else:\n",
    "            ```json\n",
    "            {\n",
    "            \"amount\": \"[Extracted Amount or null]\",\n",
    "            \"interval\": \"[Extracted Interval or null]\",\n",
    "            \"name\": \"[Extracted Name or null]\",\n",
    "            \"department\": \"[Extracted Department or null]\",\n",
    "            }\n",
    "            ```\n",
    "            }\n",
    "            Important Rules:\n",
    "\n",
    "            Do not include any additional text, explanations, or comments outside the JSON object.\n",
    "            If any of the fields cannot be identified from the email, their value must be null.\n",
    "            If the email contains no donation-related information, return:\n",
    "            ```json\n",
    "            {}\n",
    "            ```\n",
    "            \"\"\",\n",
    "        },\n",
    "        {\n",
    "        'role': 'user',\n",
    "        'content': \n",
    "            \"\"\"\n",
    "            Hello,\n",
    "\n",
    "            I want to make setup a yearly scholarship that provides a student with $40,000 if they are in Price Faculty of Engineering\n",
    "            as well as a $10,000 scholarship if they are in Computer Science. I would like to know if this is possible.\n",
    "\n",
    "            Thanks,\n",
    "\n",
    "            Bruce\n",
    "            \"\"\",\n",
    "        }\n",
    "    ],\n",
    "    model='llama3.2',\n",
    "    format=Result.model_json_schema()\n",
    ")\n",
    "\n",
    "donor = Result.model_validate_json(response.message.content)\n",
    "print(donor)\n",
    "\n",
    "\n",
    "\n"
   ]
  },
  {
   "cell_type": "markdown",
   "metadata": {},
   "source": [
    "We see that this model does better on extracting the data that is more relavant but struggles on handling multiple contexts in a message."
   ]
  }
 ],
 "metadata": {
  "kernelspec": {
   "display_name": "playground-U70RcjZ0-py3.12",
   "language": "python",
   "name": "python3"
  },
  "language_info": {
   "codemirror_mode": {
    "name": "ipython",
    "version": 3
   },
   "file_extension": ".py",
   "mimetype": "text/x-python",
   "name": "python",
   "nbconvert_exporter": "python",
   "pygments_lexer": "ipython3",
   "version": "3.12.2"
  }
 },
 "nbformat": 4,
 "nbformat_minor": 2
}
