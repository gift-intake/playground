{
 "cells": [
  {
   "cell_type": "markdown",
   "metadata": {},
   "source": [
    "This example uses the default spaCy English model to perform named entity recognition."
   ]
  },
  {
   "cell_type": "code",
   "execution_count": 5,
   "metadata": {},
   "outputs": [],
   "source": [
    "import spacy\n",
    "from spacy import displacy\n",
    "\n",
    "spacy.prefer_gpu()\n",
    "nlp = spacy.load(\"en_core_web_sm\")"
   ]
  },
  {
   "cell_type": "markdown",
   "metadata": {},
   "source": [
    "Now, spaCy is set up with a CPU-bound model that prioritizes efficiency over accuracy to help keep costs down. In theory, this could be deployed on host machines without any issues.\n",
    "\n"
   ]
  },
  {
   "cell_type": "code",
   "execution_count": 6,
   "metadata": {},
   "outputs": [
    {
     "name": "stderr",
     "output_type": "stream",
     "text": [
      "C:\\Users\\maish\\AppData\\Local\\Temp\\ipykernel_15748\\287748665.py:63: PydanticDeprecatedSince20: The `dict` method is deprecated; use `model_dump` instead. Deprecated in Pydantic V2.0 to be removed in V3.0. See Pydantic V2 Migration Guide at https://errors.pydantic.dev/2.10/migration/\n",
      "  1 for key in result.dict().keys() if result.dict()[key] == truth.get(key)\n",
      "C:\\Users\\maish\\AppData\\Local\\Temp\\ipykernel_15748\\287748665.py:65: PydanticDeprecatedSince20: The `dict` method is deprecated; use `model_dump` instead. Deprecated in Pydantic V2.0 to be removed in V3.0. See Pydantic V2 Migration Guide at https://errors.pydantic.dev/2.10/migration/\n",
      "  total_predictions += len(result.dict())\n"
     ]
    },
    {
     "name": "stdout",
     "output_type": "stream",
     "text": [
      "Accuracy: 0.12\n",
      "Extracted data saved to D:\\playground\\playground\\extracted_spacy_results.json\n"
     ]
    },
    {
     "name": "stderr",
     "output_type": "stream",
     "text": [
      "C:\\Users\\maish\\AppData\\Local\\Temp\\ipykernel_15748\\287748665.py:76: PydanticDeprecatedSince20: The `dict` method is deprecated; use `model_dump` instead. Deprecated in Pydantic V2.0 to be removed in V3.0. See Pydantic V2 Migration Guide at https://errors.pydantic.dev/2.10/migration/\n",
      "  json.dump([r.dict() for r in extracted_results], f, indent=4)\n"
     ]
    }
   ],
   "source": [
    "import spacy\n",
    "import json\n",
    "from pydantic import BaseModel\n",
    "\n",
    "# Load SpaCy model\n",
    "spacy.prefer_gpu()\n",
    "nlp = spacy.load(\"en_core_web_sm\")\n",
    "\n",
    "# Define the Result class for consistency\n",
    "class Result(BaseModel):\n",
    "    name: str | None\n",
    "    faculty: str | None\n",
    "    college: str | None\n",
    "    program: str | None\n",
    "    distribution: str | None\n",
    "    payment_method: str | None\n",
    "    money: float | None\n",
    "    currency: str | None\n",
    "    email_address: str | None\n",
    "\n",
    "# Path to your dataset and ground truth file\n",
    "email_file_path = \"D:\\\\playground\\\\playground\\\\donor_emails_dataset.json\"\n",
    "ground_truth_file_path = \"D:\\\\playground\\\\playground\\\\extracted_emails_data.json\"\n",
    "\n",
    "# Load the dataset and ground truth\n",
    "with open(email_file_path, \"r\") as f:\n",
    "    emails = json.load(f)\n",
    "\n",
    "with open(ground_truth_file_path, \"r\") as f:\n",
    "    ground_truth = json.load(f)\n",
    "\n",
    "# Set batch_size to 100\n",
    "batch_size = 100\n",
    "extracted_results = []\n",
    "\n",
    "# Initialize accuracy counters\n",
    "correct_predictions = 0\n",
    "total_predictions = 0\n",
    "\n",
    "# Loop through 100 samples (ensure you have enough samples)\n",
    "for sample, truth in zip(emails[:batch_size], ground_truth[:batch_size]):\n",
    "    # Process the text through SpaCy\n",
    "    doc = nlp(sample['text'])\n",
    "\n",
    "    # Extract entities from the text\n",
    "    email_entities = {ent.label_: ent.text for ent in doc.ents}\n",
    "\n",
    "    # Create a Result object from the extracted data\n",
    "    result = Result(\n",
    "        name=email_entities.get(\"PERSON\", None),\n",
    "        faculty=email_entities.get(\"ORG\", None),\n",
    "        college=email_entities.get(\"ORG\", None),\n",
    "        program=email_entities.get(\"PRODUCT\", None),  # Adjust if necessary\n",
    "        distribution=email_entities.get(\"MONEY\", None),  # Adjust if necessary\n",
    "        payment_method=email_entities.get(\"MONEY\", None),  # Adjust if necessary\n",
    "        money=None,  # Add money parsing logic if needed\n",
    "        currency=None,  # Add currency logic if needed\n",
    "        email_address=None,  # Add email extraction logic if needed\n",
    "    )\n",
    "\n",
    "    # Compare extracted entities with ground truth\n",
    "    correct_predictions += sum(\n",
    "        1 for key in result.dict().keys() if result.dict()[key] == truth.get(key)\n",
    "    )\n",
    "    total_predictions += len(result.dict())\n",
    "\n",
    "    # Append the extracted result\n",
    "    extracted_results.append(result)\n",
    "\n",
    "# Calculate accuracy\n",
    "accuracy = correct_predictions / total_predictions if total_predictions > 0 else 0\n",
    "\n",
    "# Save extracted results to a file\n",
    "output_path = \"D:\\\\playground\\\\playground\\\\extracted_spacy_results.json\"\n",
    "with open(output_path, \"w\") as f:\n",
    "    json.dump([r.dict() for r in extracted_results], f, indent=4)\n",
    "\n",
    "print(f\"Accuracy: {accuracy:.2f}\")\n",
    "print(f\"Extracted data saved to {output_path}\")\n"
   ]
  },
  {
   "cell_type": "markdown",
   "metadata": {},
   "source": [
    "Looking at the results out of the box, they are not ideal. The model can properly classify currency amounts, but it struggles to infer more context, such as allocations for scholarships or departments. Therefore, fine-tuning the models will be necessary to improve accuracy."
   ]
  }
 ],
 "metadata": {
  "kernelspec": {
   "display_name": ".venv",
   "language": "python",
   "name": "python3"
  },
  "language_info": {
   "codemirror_mode": {
    "name": "ipython",
    "version": 3
   },
   "file_extension": ".py",
   "mimetype": "text/x-python",
   "name": "python",
   "nbconvert_exporter": "python",
   "pygments_lexer": "ipython3",
   "version": "3.12.5"
  }
 },
 "nbformat": 4,
 "nbformat_minor": 4
}
