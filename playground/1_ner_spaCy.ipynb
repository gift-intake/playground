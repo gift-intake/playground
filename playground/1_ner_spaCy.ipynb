{
 "cells": [
  {
   "cell_type": "markdown",
   "metadata": {},
   "source": [
    "This example uses the default spaCy English model to perform named entity recognition."
   ]
  },
  {
   "cell_type": "code",
   "execution_count": 2,
   "metadata": {},
   "outputs": [],
   "source": [
    "import spacy\n",
    "\n",
    "spacy.prefer_gpu()\n",
    "nlp = spacy.load(\"en_core_web_sm\")"
   ]
  },
  {
   "cell_type": "markdown",
   "metadata": {},
   "source": [
    "Now, spaCy is set up with a CPU-bound model that prioritizes efficiency over accuracy to help keep costs down. In theory, this could be deployed on host machines without any issues.\n",
    "\n"
   ]
  },
  {
   "cell_type": "code",
   "execution_count": 6,
   "metadata": {},
   "outputs": [
    {
     "name": "stdout",
     "output_type": "stream",
     "text": [
      "Entity: 40,000, Label: MONEY\n",
      "Entity: Electrical Engineering, Label: ORG\n",
      "Entity: 10,000, Label: MONEY\n",
      "Entity: Bruce, Label: PERSON\n"
     ]
    }
   ],
   "source": [
    "\n",
    "text = \"\"\"Hello,\n",
    "\n",
    "I want to make setup a yearly scholarship that provides a student with $40,000 if they are in Electrical Engineering\n",
    "as well as a $10,000 scholarship if they are in Computer Science. I would like to know if this is possible.\n",
    "\n",
    "Thanks,\n",
    "\n",
    "Bruce\"\"\"\n",
    "\n",
    "# Process the text\n",
    "doc = nlp(text)\n",
    "\n",
    "# Extract entities\n",
    "for ent in doc.ents:\n",
    "    print(f\"Entity: {ent.text}, Label: {ent.label_}\")"
   ]
  },
  {
   "cell_type": "markdown",
   "metadata": {},
   "source": [
    "Looking at the results out of the box, they are not ideal. The model can properly classify currency amounts, but it struggles to infer more context, such as allocations for scholarships or departments. Therefore, fine-tuning the models will be necessary to improve accuracy."
   ]
  }
 ],
 "metadata": {
  "kernelspec": {
   "display_name": "Python 3 (ipykernel)",
   "language": "python",
   "name": "python3"
  },
  "language_info": {
   "codemirror_mode": {
    "name": "ipython",
    "version": 3
   },
   "file_extension": ".py",
   "mimetype": "text/x-python",
   "name": "python",
   "nbconvert_exporter": "python",
   "pygments_lexer": "ipython3",
   "version": "3.12.5"
  }
 },
 "nbformat": 4,
 "nbformat_minor": 4
}
